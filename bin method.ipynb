{
 "cells": [
  {
   "cell_type": "markdown",
   "metadata": {},
   "source": [
    "连续变量单调分箱(假设因变量为好坏用户，其中1为坏用户，0为好用户)"
   ]
  },
  {
   "cell_type": "code",
   "execution_count": null,
   "metadata": {},
   "outputs": [],
   "source": [
    "#实现连续型变量单调分箱，在等频的基础上：其中DF是导入的数据，Y是因变量的字段名，X是自变量的字段名\n",
    "def mono_woe(DF,Y,X):\n",
    "    r = 0\n",
    "    bad=Y.sum()      #坏客户数(假设因变量列为1的是坏客户)\n",
    "    good=Y.count()-bad  #好客户数\n",
    "    n=5\n",
    "    while np.abs(r) < 1:\n",
    "        d1 = pd.DataFrame({\"X\": X, \"Y\": Y, \"Bucket\": pd.qcut(X, n,duplicates='drop')})\n",
    "        d2 = d1.groupby('Bucket', as_index = False)\n",
    "        r, p = stats.spearmanr(d2.mean().X, d2.mean().Y)\n",
    "        n = n - 1\n",
    "    d3 = pd.DataFrame(d2.X.min(), columns = ['min'])\n",
    "    d3['min']=d2.min().X    \n",
    "    d3['max'] = d2.max().X\n",
    "    d3['sum'] = d2.sum().Y\n",
    "    d3['total'] = d2.count().Y\n",
    "    d3['bad_rate'] = d2.mean().Y\n",
    "    d3['group_rate']=d3['total']/(bad+good)\n",
    "    d3['woe']=np.log((d3['bad_rate']/(1-d3['bad_rate']))/(bad/good))\n",
    "    d3['iv']=(d3['sum']/bad-((d3['total']-d3['sum'])/good))*d3['woe']\n",
    "    iv=d3['iv'].sum()\n",
    "    d3['iv_sum']=iv\n",
    "    woe=list(d3['woe'].round(6))   #返回woe可以看到每组对应的woe值\n",
    "    cut=list(d3['min'].round(6))\n",
    "    cut1=list(d3['max'].round(6))\n",
    "    cut.append(cut1[-1]+1)   #返回cut可以看到分箱切割点\n",
    "    x_woe=pd.cut(X,cut,right=False,labels=woe)\n",
    "    return  d3,cut,woe,iv,x_woe"
   ]
  },
  {
   "cell_type": "code",
   "execution_count": null,
   "metadata": {},
   "outputs": [],
   "source": [
    "#调用函数，也可以在pycharm中调用\n",
    "mono_woe(df)"
   ]
  },
  {
   "cell_type": "markdown",
   "metadata": {},
   "source": [
    "无法单调分箱的连续变量"
   ]
  },
  {
   "cell_type": "code",
   "execution_count": null,
   "metadata": {},
   "outputs": [],
   "source": [
    "#如果某个连续型变量含有高频值的时候，会无法进行分割，可通过下面方法进行分箱\n",
    "def unmono_woe(DF,Y,X):\n",
    "    bad=Y.sum()      #坏客户数(假设因变量列为1的是坏客户)\n",
    "    good=Y.count()-bad  #好客户数\n",
    "    dn1 = pd.DataFrame({\"X\": X, \"Y\": Y, \"Bucket\": pd.cut(X, 50)})\n",
    "    dn2 = dn1.groupby('Bucket', as_index = False)\n",
    "    dn3 = pd.DataFrame(dn2.X.min(), columns = ['min'])\n",
    "    dn3['min']=dn2.min().X    \n",
    "    dn3['max'] = dn2.max().X\n",
    "    dn3['sum'] = dn2.sum().Y\n",
    "    dn3['total'] = dn2.count().Y\n",
    "    while (1):\n",
    "            if  (len(dn3)>5):\n",
    "                dn3_min_index = dn3[dn3.total == min(dn3.total)].index.values[0]\n",
    "                if (dn3_min_index!=0):    #最小值非第一行的情况\n",
    "                    dn3.iloc[dn3_min_index-1, 1] = dn3.iloc[dn3_min_index, 1] \n",
    "                    dn3.iloc[dn3_min_index-1, 2] = dn3.iloc[dn3_min_index, 2] +dn3.iloc[dn3_min_index-1, 2]\n",
    "                    dn3.iloc[dn3_min_index-1, 3] = dn3.iloc[dn3_min_index, 3] +dn3.iloc[dn3_min_index-1, 3]\n",
    "                    dn3=dn3.drop([dn3_min_index])\n",
    "                    dn3= dn3.reset_index(drop=True)\n",
    "                else:    #最小值是第一行的情况\n",
    "                    dn3.iloc[dn3_min_index+1, 0] = dn3.iloc[dn3_min_index, 0] \n",
    "                    dn3.iloc[dn3_min_index+1, 2] = dn3.iloc[dn3_min_index, 2] +dn3.iloc[dn3_min_index+1, 2]\n",
    "                    dn3.iloc[dn3_min_index+1, 3] = dn3.iloc[dn3_min_index, 3] +dn3.iloc[dn3_min_index+1, 3]\n",
    "                    dn3=dn3.drop([dn3_min_index])\n",
    "                    dn3= dn3.reset_index(drop=True)\n",
    "            else:\n",
    "                break\n",
    "    dn3['bad_rate'] =dn3['sum']/dn3['total']\n",
    "    dn3['group_rate']=dn3['total']/(bad+good)\n",
    "    dn3['woe']=np.log((dn3['bad_rate']/(1-dn3['bad_rate']))/(bad/good))\n",
    "    dn3['iv']=(dn3['sum']/bad-((dn3['total']-dn3['sum'])/good))*dn3['woe']\n",
    "    iv=dn3['iv'].sum()\n",
    "    dn3['iv_sum']=iv\n",
    "    woe=list(dn3['woe'].round(6)) \n",
    "    cut=list(dn3['min'].round(6))\n",
    "    cut1=list(dn3['max'].round(6))\n",
    "    cut.append(cut1[-1]+1)\n",
    "    x_woe=pd.cut(X,cut,right=False,labels=woe) #取apply_reject_sum这个变量，此时返回dn3：\n",
    "    return dn3"
   ]
  },
  {
   "cell_type": "markdown",
   "metadata": {},
   "source": [
    "类别型变量分箱"
   ]
  },
  {
   "cell_type": "code",
   "execution_count": null,
   "metadata": {},
   "outputs": [],
   "source": [
    "def cate_woe(DF,Y,X):\n",
    "    bad=Y.sum()      #坏客户数\n",
    "    good=Y.count()-bad  #好客户数\n",
    "    d1 = pd.DataFrame({\"X\": X, \"Y\": Y})\n",
    "    d2 = d1.groupby('X', as_index =True)\n",
    "    d3 = pd.DataFrame()\n",
    "    d3['sum'] = d2.sum().Y\n",
    "    d3['total'] = d2.count().Y\n",
    "    for c in range(d3.shape[0])[::-1]:\n",
    "        if ((d3.iloc[c,1]-d3.iloc[c,0])==0) or (d3.iloc[c,0]==0):\n",
    "            d3.iloc[c-1,0]=d3.iloc[c-1,0]+d3.iloc[c,0]\n",
    "            d3.iloc[c-1,1]=d3.iloc[c-1,1]+d3.iloc[c,1]\n",
    "            d3.drop(d3.index[c],inplace=True)\n",
    "        else:\n",
    "            continue\n",
    "        \n",
    "    d3['min']=d3.index  \n",
    "    d3['max'] = d3.index\n",
    "    d3['bad_rate'] =d3['sum']/d3['total']\n",
    "    d3['group_rate']=d3['total']/(bad+good)\n",
    "    d3['woe']=np.log((d3['bad_rate']/(1-d3['bad_rate']))/(bad/good))\n",
    "    d3['iv']=(d3['sum']/bad-((d3['total']-d3['sum'])/good))*d3['woe']\n",
    "    iv=d3['iv'].sum()\n",
    "    d3['iv_sum']=iv\n",
    "    d3=d3[['min','max','sum','total','bad_rate','group_rate','woe','iv','iv_sum']]\n",
    "    woe=list(d3['woe'].round(6))\n",
    "    cut=list(d3.index)\n",
    "    x_woe=X.replace(cut,woe)   #取max_apply_request_amount_level这个类别型变量，返回d3\n",
    "    return d3"
   ]
  },
  {
   "cell_type": "code",
   "execution_count": null,
   "metadata": {},
   "outputs": [],
   "source": [
    "#在具体项目中可以将上述三种方法结合，详见Vscode"
   ]
  },
  {
   "cell_type": "code",
   "execution_count": null,
   "metadata": {},
   "outputs": [],
   "source": []
  }
 ],
 "metadata": {
  "kernelspec": {
   "display_name": "Python 3",
   "language": "python",
   "name": "python3"
  },
  "language_info": {
   "codemirror_mode": {
    "name": "ipython",
    "version": 3
   },
   "file_extension": ".py",
   "mimetype": "text/x-python",
   "name": "python",
   "nbconvert_exporter": "python",
   "pygments_lexer": "ipython3",
   "version": "3.6.5"
  }
 },
 "nbformat": 4,
 "nbformat_minor": 2
}
