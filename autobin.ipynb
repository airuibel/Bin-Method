{
 "cells": [
  {
   "cell_type": "markdown",
   "metadata": {},
   "source": [
    "目的实现连续和类别变量自动识别，单调分箱和无法单调分箱变量识别，根据判断情况进行woe分箱"
   ]
  },
  {
   "cell_type": "code",
   "execution_count": null,
   "metadata": {},
   "outputs": [],
   "source": [
    "def woe_single(DF,Y,X):\n",
    "    if X.nunique()>11:\n",
    "        r = 0\n",
    "        bad=Y.sum()      #坏客户数(假设因变量列为1的是坏客户)\n",
    "        good=Y.count()-bad  #好客户数\n",
    "        n=5\n",
    "        while np.abs(r) < 1:\n",
    "            d1 = pd.DataFrame({\"X\": X, \"Y\": Y, \"Bucket\": pd.qcut(X, n,duplicates='drop')})\n",
    "            d2 = d1.groupby('Bucket', as_index = False)\n",
    "            r, p = stats.spearmanr(d2.mean().X, d2.mean().Y)\n",
    "            n = n - 1\n",
    "        d3 = pd.DataFrame(d2.X.min(), columns = ['min'])\n",
    "        d3['min']=d2.min().X    \n",
    "        d3['max'] = d2.max().X\n",
    "        d3['sum'] = d2.sum().Y\n",
    "        d3['total'] = d2.count().Y\n",
    "        d3['bad_rate'] = d2.mean().Y\n",
    "        d3['group_rate']=d3['total']/(bad+good)\n",
    "        d3['woe']=np.log((d3['bad_rate']/(1-d3['bad_rate']))/(bad/good))\n",
    "        d3['iv']=(d3['sum']/bad-((d3['total']-d3['sum'])/good))*d3['woe']\n",
    "        iv=d3['iv'].sum()\n",
    "        if iv!=0.0 and len(d2)>1:\n",
    "            d3['iv_sum']=iv\n",
    "            woe=list(d3['woe'].round(6))\n",
    "            cut=list(d3['min'].round(6))\n",
    "            cut1=list(d3['max'].round(6))\n",
    "            cut.append(cut1[-1]+1)\n",
    "            x_woe=pd.cut(X,cut,right=False,labels=woe)\n",
    "            return  d3,cut,woe,iv,x_woe\n",
    "        else:\n",
    "            dn1 = pd.DataFrame({\"X\": X, \"Y\": Y, \"Bucket\": pd.cut(X, 100)})\n",
    "            dn2 = dn1.groupby('Bucket', as_index = False)\n",
    "            dn3 = pd.DataFrame(dn2.X.min(), columns = ['min'])\n",
    "            dn3['min']=dn2.min().X    \n",
    "            dn3['max'] = dn2.max().X\n",
    "            dn3['sum'] = dn2.sum().Y\n",
    "            dn3['total'] = dn2.count().Y\n",
    "            while (1):\n",
    "                    if  (len(dn3)>4):\n",
    "                        dn3_min_index = dn3[dn3.total == min(dn3.total)].index.values[0]\n",
    "                        if (dn3_min_index!=0):    #最小值非第一行的情况\n",
    "                            dn3.iloc[dn3_min_index-1, 1] =dn3.iloc[dn3_min_index, 1] \n",
    "                            dn3.iloc[dn3_min_index-1, 2] = dn3.iloc[dn3_min_index, 2] +dn3.iloc[dn3_min_index-1, 2]\n",
    "                            dn3.iloc[dn3_min_index-1, 3] = dn3.iloc[dn3_min_index, 3] +dn3.iloc[dn3_min_index-1, 3]\n",
    "                            dn3=dn3.drop([dn3_min_index])\n",
    "                            dn3= dn3.reset_index(drop=True)\n",
    "                        else:    #最小值是第一行的情况\n",
    "                            dn3.iloc[dn3_min_index+1, 0] =dn3.iloc[dn3_min_index, 0] \n",
    "                            dn3.iloc[dn3_min_index+1, 2] = dn3.iloc[dn3_min_index, 2] +dn3.iloc[dn3_min_index+1, 2]\n",
    "                            dn3.iloc[dn3_min_index+1, 3] = dn3.iloc[dn3_min_index, 3] +dn3.iloc[dn3_min_index+1, 3]\n",
    "                            dn3=dn3.drop([dn3_min_index])\n",
    "                            dn3= dn3.reset_index(drop=True)\n",
    "                    else:\n",
    "                        break\n",
    "            dn3['bad_rate'] =dn3['sum']/dn3['total']\n",
    "            dn3['group_rate']=dn3['total']/(bad+good)\n",
    "            dn3['woe']=np.log((dn3['bad_rate']/(1-dn3['bad_rate']))/(bad/good))\n",
    "            dn3['iv']=(dn3['sum']/bad-((dn3['total']-dn3['sum'])/good))*dn3['woe']\n",
    "            \n",
    "            iv=dn3['iv'].sum()\n",
    "            dn3['iv_sum']=iv\n",
    "            woe=list(dn3['woe'].round(6)) \n",
    "            cut=list(dn3['min'].round(6))\n",
    "            cut1=list(dn3['max'].round(6))\n",
    "            cut.append(cut1[-1]+1)\n",
    "            x_woe=pd.cut(X,cut,right=False,labels=woe)\n",
    "            return  dn3,cut,woe,iv,x_woe\n",
    "    else : \n",
    "        bad=Y.sum()      #坏客户数\n",
    "        good=Y.count()-bad  #好客户数\n",
    "        d1 = pd.DataFrame({\"X\": X, \"Y\": Y})\n",
    "        d2 = d1.groupby('X', as_index =True)\n",
    "        d3 = pd.DataFrame()\n",
    "        \n",
    "        d3['sum'] = d2.sum().Y\n",
    "        d3['total'] = d2.count().Y\n",
    "        for c in range(d3.shape[0])[::-1]:\n",
    "            if ((d3.iloc[c,1]-d3.iloc[c,0])==0) or (d3.iloc[c,0]==0):\n",
    "                d3.iloc[c-1,0]=d3.iloc[c-1,0]+d3.iloc[c,0]\n",
    "                d3.iloc[c-1,1]=d3.iloc[c-1,1]+d3.iloc[c,1]\n",
    "                d3.drop(d3.index[c],inplace=True)\n",
    "            else:\n",
    "                continue\n",
    "        \n",
    "        d3['min']=d3.index  \n",
    "        d3['max'] = d3.index\n",
    "        d3['bad_rate'] =d3['sum']/d3['total']\n",
    "        d3['group_rate']=d3['total']/(bad+good)\n",
    "        d3['woe']=np.log((d3['bad_rate']/(1-d3['bad_rate']))/(bad/good))\n",
    "        d3['iv']=(d3['sum']/bad-((d3['total']-d3['sum'])/good))*d3['woe']\n",
    "        iv=d3['iv'].sum()\n",
    "        d3['iv_sum']=iv\n",
    "        d3=d3[['min','max','sum','total','bad_rate','group_rate','woe','iv','iv_sum']]\n",
    "        \n",
    "        \n",
    "        woe=list(d3['woe'].round(6))\n",
    "        cut=list(d3.index)\n",
    "        x_woe=X.replace(cut,woe)"
   ]
  },
  {
   "cell_type": "markdown",
   "metadata": {},
   "source": [
    "选取apply_request_sum这个变量来看下情况"
   ]
  },
  {
   "cell_type": "code",
   "execution_count": null,
   "metadata": {},
   "outputs": [],
   "source": [
    "woe_single(df,df.overdue_7,df.apply_request_sum)[0]   #整体分箱WOE，IV情况"
   ]
  },
  {
   "cell_type": "markdown",
   "metadata": {},
   "source": [
    "分割点"
   ]
  },
  {
   "cell_type": "code",
   "execution_count": null,
   "metadata": {},
   "outputs": [],
   "source": [
    "woe_single(df,df.overdue_7,df.overdue_repay_sum)[1]"
   ]
  },
  {
   "cell_type": "raw",
   "metadata": {},
   "source": [
    "WOE值"
   ]
  },
  {
   "cell_type": "code",
   "execution_count": null,
   "metadata": {},
   "outputs": [],
   "source": [
    "woe_single(df,df.overdue_7,df.overdue_repay_sum)[2]   "
   ]
  },
  {
   "cell_type": "markdown",
   "metadata": {},
   "source": [
    "iv值"
   ]
  },
  {
   "cell_type": "code",
   "execution_count": null,
   "metadata": {},
   "outputs": [],
   "source": [
    "iv:woe_single(df,df.overdue_7,df.overdue_repay_sum)[3]"
   ]
  },
  {
   "cell_type": "code",
   "execution_count": null,
   "metadata": {},
   "outputs": [],
   "source": [
    "woe=pd.DataFrame(columns=['min','max','sum','total','bad_rate','group_rate','woe','iv','iv_sum'])\n",
    "for i in df.columns[5:]:\n",
    "    w=pd.DataFrame(index=[i])\n",
    "    w=pd.concat([w,woe_single(df,df.overdue_7,df[i])[0]])\n",
    "    frames = [woe,w]\n",
    "    woe=pd.concat(frames)\n",
    "woe=woe[['min','max','sum','total','bad_rate','group_rate','woe','iv','iv_sum']]     #所有变量输出\n",
    "\n",
    "#查看所有变量分箱、woe、iv等情况\n",
    "woe"
   ]
  },
  {
   "cell_type": "code",
   "execution_count": null,
   "metadata": {},
   "outputs": [],
   "source": [
    "#也可以导入Excel进行分析\n",
    "#woe.to_excel('文件路径.xlsx')"
   ]
  },
  {
   "cell_type": "markdown",
   "metadata": {},
   "source": [
    "转换原始数据为对应woe值"
   ]
  },
  {
   "cell_type": "code",
   "execution_count": null,
   "metadata": {},
   "outputs": [],
   "source": [
    "def woe_all(DF,Y,X):\n",
    "    for i in X:\n",
    "        if DF[i].nunique()>11:\n",
    "            r = 0\n",
    "            bad=Y.sum()      #坏客户数(假设因变量列为1的是坏客户)\n",
    "            good=Y.count()-bad  #好客户数\n",
    "            n=5\n",
    "            while np.abs(r) < 1:\n",
    "                d1 = pd.DataFrame({\"X\": DF[i], \"Y\": Y, \"Bucket\": pd.qcut(DF[i], n,duplicates='drop')})\n",
    "                d2 = d1.groupby('Bucket', as_index = False)\n",
    "                r, p = stats.spearmanr(d2.mean().X, d2.mean().Y)\n",
    "                n = n - 1\n",
    "            d3 = pd.DataFrame(d2.X.min(), columns = ['min'])\n",
    "            d3['min']=d2.min().X    \n",
    "            d3['max'] = d2.max().X\n",
    "            d3['sum'] = d2.sum().Y\n",
    "            d3['total'] = d2.count().Y\n",
    "            d3['bad_rate'] = d2.mean().Y\n",
    "            d3['group_rate']=d3['total']/(bad+good)\n",
    "            d3['woe']=np.log((d3['bad_rate']/(1-d3['bad_rate']))/(bad/good))\n",
    "            d3['iv']=(d3['sum']/bad-((d3['total']-d3['sum'])/good))*d3['woe']\n",
    "            iv=d3['iv'].sum()\n",
    "            if iv!=0.0:\n",
    "                woe=list(d3['woe'].round(5))\n",
    "                cut=list(d3['min'].round(5))\n",
    "                cut1=list(d3['max'].round(5))\n",
    "                cut.append(cut1[-1]+1)\n",
    "                x_woe=pd.cut(DF[i],cut,right=False,labels=woe)\n",
    "                DF[i]=x_woe\n",
    "            else:\n",
    "                dn1 = pd.DataFrame({\"X\": DF[i], \"Y\": Y, \"Bucket\": pd.cut(DF[i], 20)})\n",
    "                dn2 = dn1.groupby('Bucket', as_index = False)\n",
    "                dn3 = pd.DataFrame(dn2.X.min(), columns = ['min'])\n",
    "                dn3['min']=dn2.min().X    \n",
    "                dn3['max'] = dn2.max().X\n",
    "                dn3['sum'] = dn2.sum().Y\n",
    "                dn3['total'] = dn2.count().Y\n",
    "                dn3=dn3.dropna()\n",
    "                dn3= dn3.reset_index(drop=True)\n",
    "                while (1):\n",
    "                    if  (len(dn3)>4):\n",
    "                        dn3_min_index = dn3[dn3.total == min(dn3.total)].index.values[0]\n",
    "                        if (dn3_min_index!=0):    #最小值非第一行的情况\n",
    "                            dn3.iloc[dn3_min_index-1, 1] =dn3.iloc[dn3_min_index, 1] \n",
    "                            dn3.iloc[dn3_min_index-1, 2] = dn3.iloc[dn3_min_index, 2] +dn3.iloc[dn3_min_index-1, 2]\n",
    "                            dn3.iloc[dn3_min_index-1, 3] = dn3.iloc[dn3_min_index, 3] +dn3.iloc[dn3_min_index-1, 3]\n",
    "                            dn3=dn3.drop([dn3_min_index])\n",
    "                            dn3= dn3.reset_index(drop=True)\n",
    "                        else:    #最小值是第一行的情况\n",
    "                            dn3.iloc[dn3_min_index+1, 0] =dn3.iloc[dn3_min_index, 0] \n",
    "                            dn3.iloc[dn3_min_index+1, 2] = dn3.iloc[dn3_min_index, 2] +dn3.iloc[dn3_min_index+1, 2]\n",
    "                            dn3.iloc[dn3_min_index+1, 3] = dn3.iloc[dn3_min_index, 3] +dn3.iloc[dn3_min_index+1, 3]\n",
    "                            dn3=dn3.drop([dn3_min_index])\n",
    "                            dn3= dn3.reset_index(drop=True)\n",
    "                    else:\n",
    "                        break\n",
    "                dn3['bad_rate'] =dn3['sum']/dn3['total']\n",
    "                dn3['group_rate']=dn3['total']/(bad+good)\n",
    "                dn3['woe']=np.log((dn3['bad_rate']/(1-dn3['bad_rate']))/(bad/good))\n",
    "                dn3['iv']=(dn3['sum']/bad-((dn3['total']-dn3['sum'])/good))*dn3['woe']\n",
    "                iv=dn3['iv'].sum()\n",
    "                woe=list(dn3['woe'].round(5)) \n",
    "                cut=list(dn3['min'].round(5))\n",
    "                cut1=list(dn3['max'].round(5))\n",
    "                cut.append(cut1[-1]+1)\n",
    "                x_woe=pd.cut(DF[i],cut,right=False,labels=woe)\n",
    "                DF[i]=x_woe\n",
    "        else : \n",
    "            bad=Y.sum()      #坏客户数\n",
    "            good=Y.count()-bad  #好客户数\n",
    "            d1 = pd.DataFrame({\"X\": DF[i], \"Y\": Y})\n",
    "            d2 = d1.groupby('X', as_index =True)\n",
    "            d3 = pd.DataFrame()\n",
    "            d3['sum'] = d2.sum().Y\n",
    "            d3['total'] = d2.count().Y\n",
    "            for c in range(d3.shape[0])[::-1]:\n",
    "                if ((d3.iloc[c,1]-d3.iloc[c,0])==0) or (d3.iloc[c,0]==0):\n",
    "                    d3.iloc[c-1,0]=d3.iloc[c-1,0]+d3.iloc[c,0]\n",
    "                    d3.iloc[c-1,1]=d3.iloc[c-1,1]+d3.iloc[c,1]\n",
    "                    d3.drop(d3.index[c],inplace=True)\n",
    "                else:\n",
    "                    continue\n",
    "            d3['bad_rate'] =d3['sum']/d3['total']\n",
    "            d3['group_rate']=d3['total']/(bad+good)\n",
    "            d3['woe']=np.log((d3['bad_rate']/(1-d3['bad_rate']))/(bad/good))\n",
    "            d3['iv']=(d3['sum']/bad-((d3['total']-d3['sum'])/good))*d3['woe']\n",
    "            iv=d3['iv'].sum()\n",
    "            woe=list(d3['woe'].round(5))\n",
    "            cut=list(d3.index)\n",
    "            x_woe=DF[i].replace(cut,woe)\n",
    "            DF[i]=x_woe\n",
    "    return DF"
   ]
  },
  {
   "cell_type": "markdown",
   "metadata": {},
   "source": [
    "保存到Excel本地"
   ]
  },
  {
   "cell_type": "code",
   "execution_count": 10,
   "metadata": {},
   "outputs": [
    {
     "ename": "NameError",
     "evalue": "name 'df' is not defined",
     "traceback": [
      "\u001b[1;31m---------------------------------------------------------------------------\u001b[0m",
      "\u001b[1;31mNameError\u001b[0m                                 Traceback (most recent call last)",
      "\u001b[1;32m<ipython-input-10-5de4462918a9>\u001b[0m in \u001b[0;36m<module>\u001b[1;34m()\u001b[0m\n\u001b[1;32m----> 1\u001b[1;33m \u001b[0mwoe\u001b[0m\u001b[1;33m=\u001b[0m\u001b[0mwoe_all\u001b[0m\u001b[1;33m(\u001b[0m\u001b[0mdf\u001b[0m\u001b[1;33m,\u001b[0m\u001b[0mdf\u001b[0m\u001b[1;33m.\u001b[0m\u001b[0moverdue_7\u001b[0m\u001b[1;33m,\u001b[0m\u001b[0mdf\u001b[0m\u001b[1;33m.\u001b[0m\u001b[0miloc\u001b[0m\u001b[1;33m[\u001b[0m\u001b[1;33m:\u001b[0m\u001b[1;33m,\u001b[0m\u001b[1;36m1\u001b[0m\u001b[1;33m:\u001b[0m\u001b[1;33m]\u001b[0m\u001b[1;33m)\u001b[0m\u001b[1;33m\u001b[0m\u001b[0m\n\u001b[0m\u001b[0;32m      2\u001b[0m \u001b[0mwoe\u001b[0m\u001b[1;33m.\u001b[0m\u001b[0mto_csv\u001b[0m\u001b[1;33m(\u001b[0m\u001b[1;34m'文件路径.csv'\u001b[0m\u001b[1;33m)\u001b[0m\u001b[1;33m\u001b[0m\u001b[0m\n",
      "\u001b[1;31mNameError\u001b[0m: name 'df' is not defined"
     ],
     "output_type": "error"
    }
   ],
   "source": [
    "woe=woe_all(df,df.overdue_7,df.iloc[:,1:])   \n",
    "woe.to_csv('文件路径.csv')"
   ]
  },
  {
   "cell_type": "code",
   "execution_count": 11,
   "metadata": {},
   "outputs": [],
   "source": [
    "#目前单调分箱的连续型变量和类别变量基本与手动划分一致，高频型的连续变量还有待改进\n",
    "#会报错类型Categorical categories must be unique\n",
    "#可能是变量中存在离群值或者是无意义的变量"
   ]
  },
  {
   "cell_type": "code",
   "execution_count": null,
   "metadata": {},
   "outputs": [],
   "source": []
  }
 ],
 "metadata": {
  "kernelspec": {
   "display_name": "Python 3",
   "language": "python",
   "name": "python3"
  },
  "language_info": {
   "codemirror_mode": {
    "name": "ipython",
    "version": 3
   },
   "file_extension": ".py",
   "mimetype": "text/x-python",
   "name": "python",
   "nbconvert_exporter": "python",
   "pygments_lexer": "ipython3",
   "version": "3.6.5"
  }
 },
 "nbformat": 4,
 "nbformat_minor": 2
}
